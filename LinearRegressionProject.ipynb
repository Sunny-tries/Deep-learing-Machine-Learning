{
  "nbformat": 4,
  "nbformat_minor": 0,
  "metadata": {
    "colab": {
      "provenance": []
    },
    "kernelspec": {
      "name": "python3",
      "display_name": "Python 3"
    },
    "language_info": {
      "name": "python"
    }
  },
  "cells": [
    {
      "cell_type": "code",
      "execution_count": 1,
      "metadata": {
        "id": "EHJBEagNZKSz"
      },
      "outputs": [],
      "source": [
        "import torch\n",
        "from torch import nn # Contains all of torches for all nureal networks\n",
        "import matplotlib.pyplot as plt\n",
        "import numpy as np"
      ]
    },
    {
      "cell_type": "markdown",
      "source": [
        "# Data preparing and loading , data can be almost anything\n",
        "* Excel spreadsheet\n",
        "* Images of any kind\n",
        "* Videos (Youtube has lots of data...)\n",
        "* Audio like songs or podcasts\n",
        "* DNA\n",
        "* text\n",
        "\n",
        "Machine learning is two parts:\n",
        "1. Get data into numerical representations.\n",
        "2. Build a model to learn patterns in that numerical representation\n",
        "\n",
        "To showcase this, lets create some known data using linear regression formula\n",
        "\n",
        "We will use a linear regression formula to make a straight line with known parameters.\n",
        "\n",
        "weight will be b and bias will be a\n"
      ],
      "metadata": {
        "id": "b1_3d6lXasMf"
      }
    },
    {
      "cell_type": "code",
      "source": [
        "# Create known parameters\n",
        "weight = 0.7\n",
        "bias = 0.3\n",
        "\n",
        "# Create data\n",
        "start = 0\n",
        "end = 1\n",
        "step = 0.02\n",
        "X = torch.arange(start, end, step).unsqueeze(dim=1)\n",
        "y = weight * X + bias\n",
        "\n",
        "X[:10], y[:10]"
      ],
      "metadata": {
        "colab": {
          "base_uri": "https://localhost:8080/"
        },
        "id": "BbxZpCXgahuC",
        "outputId": "ad7d2729-e0c7-4daf-96a6-ee410dff0a45"
      },
      "execution_count": 2,
      "outputs": [
        {
          "output_type": "execute_result",
          "data": {
            "text/plain": [
              "(tensor([[0.0000],\n",
              "         [0.0200],\n",
              "         [0.0400],\n",
              "         [0.0600],\n",
              "         [0.0800],\n",
              "         [0.1000],\n",
              "         [0.1200],\n",
              "         [0.1400],\n",
              "         [0.1600],\n",
              "         [0.1800]]),\n",
              " tensor([[0.3000],\n",
              "         [0.3140],\n",
              "         [0.3280],\n",
              "         [0.3420],\n",
              "         [0.3560],\n",
              "         [0.3700],\n",
              "         [0.3840],\n",
              "         [0.3980],\n",
              "         [0.4120],\n",
              "         [0.4260]]))"
            ]
          },
          "metadata": {},
          "execution_count": 2
        }
      ]
    },
    {
      "cell_type": "code",
      "source": [
        "len(X), len(y)"
      ],
      "metadata": {
        "colab": {
          "base_uri": "https://localhost:8080/"
        },
        "id": "RsKBE2nCcV2i",
        "outputId": "129a7dfc-8e70-4afb-fa81-4607fc99f691"
      },
      "execution_count": 3,
      "outputs": [
        {
          "output_type": "execute_result",
          "data": {
            "text/plain": [
              "(50, 50)"
            ]
          },
          "metadata": {},
          "execution_count": 3
        }
      ]
    },
    {
      "cell_type": "code",
      "source": [
        "y"
      ],
      "metadata": {
        "colab": {
          "base_uri": "https://localhost:8080/"
        },
        "id": "pzy9GLtqhX1D",
        "outputId": "2e25d7a0-398f-450f-bb1c-021e828d615b"
      },
      "execution_count": 4,
      "outputs": [
        {
          "output_type": "execute_result",
          "data": {
            "text/plain": [
              "tensor([[0.3000],\n",
              "        [0.3140],\n",
              "        [0.3280],\n",
              "        [0.3420],\n",
              "        [0.3560],\n",
              "        [0.3700],\n",
              "        [0.3840],\n",
              "        [0.3980],\n",
              "        [0.4120],\n",
              "        [0.4260],\n",
              "        [0.4400],\n",
              "        [0.4540],\n",
              "        [0.4680],\n",
              "        [0.4820],\n",
              "        [0.4960],\n",
              "        [0.5100],\n",
              "        [0.5240],\n",
              "        [0.5380],\n",
              "        [0.5520],\n",
              "        [0.5660],\n",
              "        [0.5800],\n",
              "        [0.5940],\n",
              "        [0.6080],\n",
              "        [0.6220],\n",
              "        [0.6360],\n",
              "        [0.6500],\n",
              "        [0.6640],\n",
              "        [0.6780],\n",
              "        [0.6920],\n",
              "        [0.7060],\n",
              "        [0.7200],\n",
              "        [0.7340],\n",
              "        [0.7480],\n",
              "        [0.7620],\n",
              "        [0.7760],\n",
              "        [0.7900],\n",
              "        [0.8040],\n",
              "        [0.8180],\n",
              "        [0.8320],\n",
              "        [0.8460],\n",
              "        [0.8600],\n",
              "        [0.8740],\n",
              "        [0.8880],\n",
              "        [0.9020],\n",
              "        [0.9160],\n",
              "        [0.9300],\n",
              "        [0.9440],\n",
              "        [0.9580],\n",
              "        [0.9720],\n",
              "        [0.9860]])"
            ]
          },
          "metadata": {},
          "execution_count": 4
        }
      ]
    },
    {
      "cell_type": "code",
      "source": [
        "### Splitting data into training and test sets (important)\n",
        "# Create a train/test split 80 / 20 split\n",
        "train_split = int(0.8 * len(X))\n",
        "X_train, y_train = X[:train_split], y[:train_split]\n",
        "X_test, y_test = X[train_split:], y[train_split:]\n",
        "\n",
        "len(X_train), len(y_train), len(X_test), len(y_test)"
      ],
      "metadata": {
        "colab": {
          "base_uri": "https://localhost:8080/"
        },
        "id": "3qsILnFXcgl0",
        "outputId": "11d9bb9e-5a34-4dc8-e5f4-f60c62c998c5"
      },
      "execution_count": 5,
      "outputs": [
        {
          "output_type": "execute_result",
          "data": {
            "text/plain": [
              "(40, 40, 10, 10)"
            ]
          },
          "metadata": {},
          "execution_count": 5
        }
      ]
    },
    {
      "cell_type": "code",
      "source": [
        "def plot_predictions(train_data=X_train, train_labels=y_train, test_data=X_test, test_labels=y_test, predicitons=None):\n",
        "  plt.figure(figsize=(10, 7))\n",
        "  #Plotting training data in blue\n",
        "  plt.scatter(train_data, train_labels, c=\"b\", s=4, label=\"Training Data\")\n",
        "\n",
        "  #Ploting the test data in green\n",
        "  plt.scatter(test_data, test_labels, c=\"g\", s=4, label=\"Testing Data\")\n",
        "\n",
        "  if predicitons is not None:\n",
        "    plt.scatter(test_data, predicitons, c='r', s=4, label=\"Predictions\")\n",
        "\n",
        "  #Show legends\n",
        "  plt.legend(prop={\"size\": 14})"
      ],
      "metadata": {
        "id": "jFY0jvk9fSuw"
      },
      "execution_count": 6,
      "outputs": []
    },
    {
      "cell_type": "code",
      "source": [
        "plot_predictions()"
      ],
      "metadata": {
        "colab": {
          "base_uri": "https://localhost:8080/",
          "height": 599
        },
        "id": "Aa5qIDDBgnWs",
        "outputId": "7c9c3807-62a0-4938-96bd-9e84216aa7db"
      },
      "execution_count": 7,
      "outputs": [
        {
          "output_type": "display_data",
          "data": {
            "text/plain": [
              "<Figure size 1000x700 with 1 Axes>"
            ],
            "image/png": "[encoded data removed]"
          },
          "metadata": {}
        }
      ]
    },
    {
      "cell_type": "markdown",
      "source": [
        "# What our model does\n",
        "* Start with random values (weight & bias)\n",
        "* Look at training data and adjust the random values to better represent (or get closer to) the ideal values (the weight & bias values we used to create data)\n",
        "\n",
        "How does it do so?\n",
        "\n",
        "Through two main algorithms:\n",
        "1. Gradient descent\n",
        "2. Backpropagation"
      ],
      "metadata": {
        "id": "Uj4xP4TlkbPA"
      }
    },
    {
      "cell_type": "code",
      "source": [
        "## 2. Build model\n",
        "#Building our first pytorch model\n",
        "# Create linear regression model class\n",
        "\n",
        "class LinearRegressionModel(nn.Module): # Almost everything in pytorch will inherit from nn.Module\n",
        "  def __init__(self):\n",
        "    super().__init__()\n",
        "    # Initalize inital parameters\n",
        "    self.weights = nn.Parameter(torch.randn(1,\n",
        "                                            requires_grad=True,\n",
        "                                            dtype=torch.float))\n",
        "    self.bias = nn.Parameter(torch.rand(1,\n",
        "                                        requires_grad=True,\n",
        "                                        dtype=torch.float))\n",
        "    # Forward method to define the computation in the\n",
        "    # Any subclass of nn.module requires a forward method (similar to callback in JS)\n",
        "    # Forward is the operation it does, need to override the forward method\n",
        "  def forward(self, x: torch.Tensor) -> torch.Tensor: # \"x\" is the input data\n",
        "    return self.weights * x + self.bias     # This is the linear regression formual"
      ],
      "metadata": {
        "id": "-67-Kmj2hFg_"
      },
      "execution_count": 8,
      "outputs": []
    },
    {
      "cell_type": "markdown",
      "source": [
        "### Pytorch model building essentials\n",
        "* torch.nn - Contains all of the building blocks for neural networks\n",
        "* torch.nn.Parameter - what parameters should our model try and learn, often a pytorch layer from torch.nn will set these for us\n",
        "* torch.nn.Module - The base class for all nueral network modules, if you subclass it you should overwrite forward()\n",
        "* torch.optim - this is where the optimizers in Pytorch live, they will help with gradient descent\n",
        "* def forward() - All nn.module subclasses require you to overwrite forward(), this method **Defines what happens in the forward computation**"
      ],
      "metadata": {
        "id": "X4VOlsmMnqEm"
      }
    },
    {
      "cell_type": "markdown",
      "source": [
        "# To see what our contents of our pytorch model is\n",
        "We can check our models parameters or whats insie our model using `.parameters()`"
      ],
      "metadata": {
        "id": "4xh-d0izhn-u"
      }
    },
    {
      "cell_type": "code",
      "source": [
        "# Create a random seed\n",
        "torch.manual_seed(42)\n",
        "epoch_count = []\n",
        "loss_values = []\n",
        "test_loss_values = []\n",
        "\n",
        "# Create an instance of the model we created (Subclass of nn.Module)\n",
        "\n",
        "model_0 = LinearRegressionModel()\n",
        "\n",
        "list(model_0.parameters())"
      ],
      "metadata": {
        "colab": {
          "base_uri": "https://localhost:8080/"
        },
        "id": "-9Tt65QzkzFU",
        "outputId": "3d271eb7-0ba2-4dba-beb0-bba357466eb5"
      },
      "execution_count": 9,
      "outputs": [
        {
          "output_type": "execute_result",
          "data": {
            "text/plain": [
              "[Parameter containing:\n",
              " tensor([0.3367], requires_grad=True),\n",
              " Parameter containing:\n",
              " tensor([0.3904], requires_grad=True)]"
            ]
          },
          "metadata": {},
          "execution_count": 9
        }
      ]
    },
    {
      "cell_type": "code",
      "source": [
        "#List named parameters\n",
        "model_0.state_dict()"
      ],
      "metadata": {
        "colab": {
          "base_uri": "https://localhost:8080/"
        },
        "id": "tbg2gFhUiZw-",
        "outputId": "e2c5b957-4923-454f-c18a-f09baad7b03b"
      },
      "execution_count": 10,
      "outputs": [
        {
          "output_type": "execute_result",
          "data": {
            "text/plain": [
              "OrderedDict([('weights', tensor([0.3367])), ('bias', tensor([0.3904]))])"
            ]
          },
          "metadata": {},
          "execution_count": 10
        }
      ]
    },
    {
      "cell_type": "code",
      "source": [
        "weight, bias"
      ],
      "metadata": {
        "colab": {
          "base_uri": "https://localhost:8080/"
        },
        "id": "m07JVqTMjRSR",
        "outputId": "fee3e5f1-fd70-42b3-b22a-b517119764f0"
      },
      "execution_count": 11,
      "outputs": [
        {
          "output_type": "execute_result",
          "data": {
            "text/plain": [
              "(0.7, 0.3)"
            ]
          },
          "metadata": {},
          "execution_count": 11
        }
      ]
    },
    {
      "cell_type": "code",
      "source": [
        "## Making predicitions using torch.inference_mode()\n",
        "# To check our models predictive power, lets see how well it predicts 'y_test', based on 'x_test''\n",
        "# When we pass data through the model, it will run it through the forward() method."
      ],
      "metadata": {
        "id": "IahPIPwmjbEH"
      },
      "execution_count": 12,
      "outputs": []
    },
    {
      "cell_type": "code",
      "source": [
        "# Making predicitons with model\n",
        "# Inference is a context manager (prediction)\n",
        "# Inference mode turns off the gradient tracking, inference isnt training. We do not need to keep track of our models cause were not training\n",
        "# Behind the scenes it is keeping track of less data.\n",
        "# Can do the same with torch.no_grad(), however torch.inference_mode() is prefered\n",
        "with torch.inference_mode():\n",
        "  y_preds = model_0(X_test)\n",
        "\n",
        "y_preds"
      ],
      "metadata": {
        "colab": {
          "base_uri": "https://localhost:8080/"
        },
        "id": "cyODXnrQk4sL",
        "outputId": "e0f72009-63c2-47ae-c848-34ddc560091c"
      },
      "execution_count": 13,
      "outputs": [
        {
          "output_type": "execute_result",
          "data": {
            "text/plain": [
              "tensor([[0.6598],\n",
              "        [0.6665],\n",
              "        [0.6733],\n",
              "        [0.6800],\n",
              "        [0.6867],\n",
              "        [0.6935],\n",
              "        [0.7002],\n",
              "        [0.7069],\n",
              "        [0.7137],\n",
              "        [0.7204]])"
            ]
          },
          "metadata": {},
          "execution_count": 13
        }
      ]
    },
    {
      "cell_type": "code",
      "source": [
        "y_test"
      ],
      "metadata": {
        "colab": {
          "base_uri": "https://localhost:8080/"
        },
        "id": "QF_U9lZ_lLLe",
        "outputId": "7173bcda-f18b-4d59-93b8-081e209003bd"
      },
      "execution_count": 14,
      "outputs": [
        {
          "output_type": "execute_result",
          "data": {
            "text/plain": [
              "tensor([[0.8600],\n",
              "        [0.8740],\n",
              "        [0.8880],\n",
              "        [0.9020],\n",
              "        [0.9160],\n",
              "        [0.9300],\n",
              "        [0.9440],\n",
              "        [0.9580],\n",
              "        [0.9720],\n",
              "        [0.9860]])"
            ]
          },
          "metadata": {},
          "execution_count": 14
        }
      ]
    },
    {
      "cell_type": "code",
      "source": [
        "plot_predictions(predicitons=y_preds)"
      ],
      "metadata": {
        "colab": {
          "base_uri": "https://localhost:8080/",
          "height": 599
        },
        "id": "Xc61ln98mbuJ",
        "outputId": "ffd6a259-5ad4-4fae-8738-c171879c4d7b"
      },
      "execution_count": 15,
      "outputs": [
        {
          "output_type": "display_data",
          "data": {
            "text/plain": [
              "<Figure size 1000x700 with 1 Axes>"
            ],
            "image/png": "[encoded data removed]"
          },
          "metadata": {}
        }
      ]
    },
    {
      "cell_type": "markdown",
      "source": [
        "## Traning model\n",
        "The whole purpose of training is for a model to move from some unknown parameters (could be random) to some known parameters.\n",
        "- From a poor representation to a good representation of data.\n",
        "\n",
        "One way to measure how poor or how wrong your models predictions are is to use a loss function.\n",
        "\n",
        "* Note: Loss function may also be called cost function, or criterion in different areas. In ML case it is the loss function\n",
        "\n",
        "Things we need to train:\n",
        "\n",
        "* **Loss function:** a function to measure how wrong the model's predictions are to the ideal out puts. Lower the value the better\n",
        "\n",
        "* **Optimizer:** Takes into account the loss of a model and adjusts the models parameters (weight and basis) In our case to improve the loss function.\n",
        "\n",
        "\n",
        "Inside the optimizer youll often have to set two parameters:\n",
        "1. `params` - the model parameters you'd like to optimize, for example `params=model_0.parameters()`\n",
        "2. `lr` (learning rate) - the learning rate is hyperparameter that defines how big/small the optimizer changes the parameters with each step (a lr results in small changes, a large lr results in large changes)\n",
        "And specifically for PyTorch we need a:\n",
        "- Training loop\n",
        "- A testing loop\n",
        "\n"
      ],
      "metadata": {
        "id": "FNyXge5Xp6JS"
      }
    },
    {
      "cell_type": "code",
      "source": [
        "# Setup a loss function\n",
        "loss_fn = nn.L1Loss()\n",
        "\n",
        "\n",
        "# Set up an optimizer\n",
        "optimizer = torch.optim.SGD(params=model_0.parameters(),\n",
        "                            lr=0.01) # lr = learning rate = possibly the most important hyper paramter we can set"
      ],
      "metadata": {
        "id": "_-NXfFEpnOhY"
      },
      "execution_count": 16,
      "outputs": []
    },
    {
      "cell_type": "markdown",
      "source": [
        "## Building a training loop, and testing loop in pytorch\n",
        "\n",
        "Things we need in a training loop:\n",
        "0. Loop through the data : and do all the following steps within the loop\n",
        "1. forward pass (this involves data moving through our model forward functions) - also called forward propagation\n",
        "2. Calculate the loss (compare forward pass predictions to ground truth labels)\n",
        "3. optimizer zero grad\n",
        "4. Loss backward - Move backwards through the network to calculate the gradients each of the parameters of our jodels with respect to the loss. (**Backpropragation**)\n",
        "5. Optimizer step - use the optimizer to adjust our model's parameters to try and improve the loss (**graident descent**)\n"
      ],
      "metadata": {
        "id": "2uTso93xzNmb"
      }
    },
    {
      "cell_type": "code",
      "source": [
        "list(model_0.parameters())"
      ],
      "metadata": {
        "colab": {
          "base_uri": "https://localhost:8080/"
        },
        "id": "PIC_Iad01D85",
        "outputId": "dbfbc630-3913-4edc-cb07-26e12f87e76a"
      },
      "execution_count": 17,
      "outputs": [
        {
          "output_type": "execute_result",
          "data": {
            "text/plain": [
              "[Parameter containing:\n",
              " tensor([0.3367], requires_grad=True),\n",
              " Parameter containing:\n",
              " tensor([0.3904], requires_grad=True)]"
            ]
          },
          "metadata": {},
          "execution_count": 17
        }
      ]
    },
    {
      "cell_type": "code",
      "source": [
        "torch.manual_seed(42)\n",
        "\n",
        "# an Epoch is one loop through the data... (this is a hyperparameter because we set them our selfs)\n",
        "epochs = 500\n",
        "# Tracking different values to compare future experiements\n",
        "epoch_count_list = []\n",
        "loss_values_list = []\n",
        "test_loss_values_list = []\n",
        "### Training\n",
        "\n",
        "# Step 0. loop through the data\n",
        "for epoch in range(epochs):\n",
        "  # Set model to the training mode\n",
        "  model_0.train() # Set all parameters that requires gradients to require gradients\n",
        "\n",
        "  # Step 1. Forward Pass\n",
        "  y_pred = model_0(X_train)\n",
        "\n",
        "  # Step 2. Calculate the loss\n",
        "  loss = loss_fn(y_pred, y_train)\n",
        "\n",
        "  # Step 3. Optimizer zero grad\n",
        "  optimizer.zero_grad()\n",
        "\n",
        "  # Step 4. perform backpropagation on the loss with respect to the parameters of the model\n",
        "  loss.backward()\n",
        "\n",
        "  # Step 4. Step the optimizer (perform graident descent)\n",
        "  optimizer.step() # By default how the optimizer changes will acculumate through th loop so... we have to zero them aboe in step 3 for the next interation of the loop\n",
        "\n",
        "\n",
        "  # Testing Mode\n",
        "  model_0.eval() # Turns off gradient tracking, turns of certain training settings to be able to run tests\n",
        "  with torch.inference_mode():  # Turns of gradient tracking and a couple more behind the scene settings\n",
        "    # 1. Forward pass\n",
        "    test_pred = model_0(X_test)\n",
        "\n",
        "    # 2. Calculate the loss\n",
        "    test_loss = loss_fn(test_pred, y_test)\n",
        "\n",
        "  # Print out whats happening:\n",
        "  if epoch % 10 == 0:\n",
        "    epoch_count_list.append(epoch)\n",
        "    loss_values_list.append(loss)\n",
        "    test_loss_values_list.append(test_loss)\n",
        "    print(f\"Epoch: {epoch} | Loss: {loss} | Test Loss: {test_loss}\")\n",
        "    print(model_0.state_dict())"
      ],
      "metadata": {
        "colab": {
          "base_uri": "https://localhost:8080/"
        },
        "id": "iJRZzWM-sTh8",
        "outputId": "2ffd0cae-cd8c-407c-a0f6-8b18d5b3835d"
      },
      "execution_count": 18,
      "outputs": [
        {
          "output_type": "stream",
          "name": "stdout",
          "text": [
            "Epoch: 0 | Loss: 0.08169572055339813 | Test Loss: 0.22662055492401123\n",
            "OrderedDict([('weights', tensor([0.3398])), ('bias', tensor([0.3939]))])\n",
            "Epoch: 10 | Loss: 0.06808149069547653 | Test Loss: 0.1807345449924469\n",
            "OrderedDict([('weights', tensor([0.3672])), ('bias', tensor([0.4154]))])\n",
            "Epoch: 20 | Loss: 0.06258393079042435 | Test Loss: 0.15627031028270721\n",
            "OrderedDict([('weights', tensor([0.3891])), ('bias', tensor([0.4204]))])\n",
            "Epoch: 30 | Loss: 0.05879194289445877 | Test Loss: 0.1418602615594864\n",
            "OrderedDict([('weights', tensor([0.4081])), ('bias', tensor([0.4179]))])\n",
            "Epoch: 40 | Loss: 0.05530194193124771 | Test Loss: 0.13084018230438232\n",
            "OrderedDict([('weights', tensor([0.4261])), ('bias', tensor([0.4129]))])\n",
            "Epoch: 50 | Loss: 0.051822252571582794 | Test Loss: 0.12050700187683105\n",
            "OrderedDict([('weights', tensor([0.4439])), ('bias', tensor([0.4074]))])\n",
            "Epoch: 60 | Loss: 0.04838593676686287 | Test Loss: 0.11223447322845459\n",
            "OrderedDict([('weights', tensor([0.4610])), ('bias', tensor([0.4004]))])\n",
            "Epoch: 70 | Loss: 0.044948760420084 | Test Loss: 0.10464880615472794\n",
            "OrderedDict([('weights', tensor([0.4780])), ('bias', tensor([0.3929]))])\n",
            "Epoch: 80 | Loss: 0.04152031987905502 | Test Loss: 0.09637625515460968\n",
            "OrderedDict([('weights', tensor([0.4951])), ('bias', tensor([0.3859]))])\n",
            "Epoch: 90 | Loss: 0.03808232396841049 | Test Loss: 0.08810374140739441\n",
            "OrderedDict([('weights', tensor([0.5123])), ('bias', tensor([0.3789]))])\n",
            "Epoch: 100 | Loss: 0.034646838903427124 | Test Loss: 0.08051808178424835\n",
            "OrderedDict([('weights', tensor([0.5293])), ('bias', tensor([0.3714]))])\n",
            "Epoch: 110 | Loss: 0.031217509880661964 | Test Loss: 0.0722455382347107\n",
            "OrderedDict([('weights', tensor([0.5464])), ('bias', tensor([0.3644]))])\n",
            "Epoch: 120 | Loss: 0.027778705582022667 | Test Loss: 0.06397300213575363\n",
            "OrderedDict([('weights', tensor([0.5636])), ('bias', tensor([0.3574]))])\n",
            "Epoch: 130 | Loss: 0.024344902485609055 | Test Loss: 0.05638733506202698\n",
            "OrderedDict([('weights', tensor([0.5805])), ('bias', tensor([0.3499]))])\n",
            "Epoch: 140 | Loss: 0.020913895219564438 | Test Loss: 0.04811479523777962\n",
            "OrderedDict([('weights', tensor([0.5977])), ('bias', tensor([0.3429]))])\n",
            "Epoch: 150 | Loss: 0.017475087195634842 | Test Loss: 0.03984225541353226\n",
            "OrderedDict([('weights', tensor([0.6148])), ('bias', tensor([0.3359]))])\n",
            "Epoch: 160 | Loss: 0.014042967930436134 | Test Loss: 0.0322565920650959\n",
            "OrderedDict([('weights', tensor([0.6318])), ('bias', tensor([0.3284]))])\n",
            "Epoch: 170 | Loss: 0.010610274039208889 | Test Loss: 0.02398405596613884\n",
            "OrderedDict([('weights', tensor([0.6490])), ('bias', tensor([0.3214]))])\n",
            "Epoch: 180 | Loss: 0.007171472068876028 | Test Loss: 0.015711510553956032\n",
            "OrderedDict([('weights', tensor([0.6661])), ('bias', tensor([0.3144]))])\n",
            "Epoch: 190 | Loss: 0.003741039428859949 | Test Loss: 0.008125847205519676\n",
            "OrderedDict([('weights', tensor([0.6831])), ('bias', tensor([0.3069]))])\n",
            "Epoch: 200 | Loss: 0.004964242689311504 | Test Loss: 0.010411137714982033\n",
            "OrderedDict([('weights', tensor([0.6923])), ('bias', tensor([0.2964]))])\n",
            "Epoch: 210 | Loss: 0.004964242689311504 | Test Loss: 0.010411137714982033\n",
            "OrderedDict([('weights', tensor([0.6923])), ('bias', tensor([0.2964]))])\n",
            "Epoch: 220 | Loss: 0.004964242689311504 | Test Loss: 0.010411137714982033\n",
            "OrderedDict([('weights', tensor([0.6923])), ('bias', tensor([0.2964]))])\n",
            "Epoch: 230 | Loss: 0.004964242689311504 | Test Loss: 0.010411137714982033\n",
            "OrderedDict([('weights', tensor([0.6923])), ('bias', tensor([0.2964]))])\n",
            "Epoch: 240 | Loss: 0.004964242689311504 | Test Loss: 0.010411137714982033\n",
            "OrderedDict([('weights', tensor([0.6923])), ('bias', tensor([0.2964]))])\n",
            "Epoch: 250 | Loss: 0.004964242689311504 | Test Loss: 0.010411137714982033\n",
            "OrderedDict([('weights', tensor([0.6923])), ('bias', tensor([0.2964]))])\n",
            "Epoch: 260 | Loss: 0.004964242689311504 | Test Loss: 0.010411137714982033\n",
            "OrderedDict([('weights', tensor([0.6923])), ('bias', tensor([0.2964]))])\n",
            "Epoch: 270 | Loss: 0.004964242689311504 | Test Loss: 0.010411137714982033\n",
            "OrderedDict([('weights', tensor([0.6923])), ('bias', tensor([0.2964]))])\n",
            "Epoch: 280 | Loss: 0.004964242689311504 | Test Loss: 0.010411137714982033\n",
            "OrderedDict([('weights', tensor([0.6923])), ('bias', tensor([0.2964]))])\n",
            "Epoch: 290 | Loss: 0.004964242689311504 | Test Loss: 0.010411137714982033\n",
            "OrderedDict([('weights', tensor([0.6923])), ('bias', tensor([0.2964]))])\n",
            "Epoch: 300 | Loss: 0.004964242689311504 | Test Loss: 0.010411137714982033\n",
            "OrderedDict([('weights', tensor([0.6923])), ('bias', tensor([0.2964]))])\n",
            "Epoch: 310 | Loss: 0.004964242689311504 | Test Loss: 0.010411137714982033\n",
            "OrderedDict([('weights', tensor([0.6923])), ('bias', tensor([0.2964]))])\n",
            "Epoch: 320 | Loss: 0.004964242689311504 | Test Loss: 0.010411137714982033\n",
            "OrderedDict([('weights', tensor([0.6923])), ('bias', tensor([0.2964]))])\n",
            "Epoch: 330 | Loss: 0.004964242689311504 | Test Loss: 0.010411137714982033\n",
            "OrderedDict([('weights', tensor([0.6923])), ('bias', tensor([0.2964]))])\n",
            "Epoch: 340 | Loss: 0.004964242689311504 | Test Loss: 0.010411137714982033\n",
            "OrderedDict([('weights', tensor([0.6923])), ('bias', tensor([0.2964]))])\n",
            "Epoch: 350 | Loss: 0.004964242689311504 | Test Loss: 0.010411137714982033\n",
            "OrderedDict([('weights', tensor([0.6923])), ('bias', tensor([0.2964]))])\n",
            "Epoch: 360 | Loss: 0.004964242689311504 | Test Loss: 0.010411137714982033\n",
            "OrderedDict([('weights', tensor([0.6923])), ('bias', tensor([0.2964]))])\n",
            "Epoch: 370 | Loss: 0.004964242689311504 | Test Loss: 0.010411137714982033\n",
            "OrderedDict([('weights', tensor([0.6923])), ('bias', tensor([0.2964]))])\n",
            "Epoch: 380 | Loss: 0.004964242689311504 | Test Loss: 0.010411137714982033\n",
            "OrderedDict([('weights', tensor([0.6923])), ('bias', tensor([0.2964]))])\n",
            "Epoch: 390 | Loss: 0.004964242689311504 | Test Loss: 0.010411137714982033\n",
            "OrderedDict([('weights', tensor([0.6923])), ('bias', tensor([0.2964]))])\n",
            "Epoch: 400 | Loss: 0.004964242689311504 | Test Loss: 0.010411137714982033\n",
            "OrderedDict([('weights', tensor([0.6923])), ('bias', tensor([0.2964]))])\n",
            "Epoch: 410 | Loss: 0.004964242689311504 | Test Loss: 0.010411137714982033\n",
            "OrderedDict([('weights', tensor([0.6923])), ('bias', tensor([0.2964]))])\n",
            "Epoch: 420 | Loss: 0.004964242689311504 | Test Loss: 0.010411137714982033\n",
            "OrderedDict([('weights', tensor([0.6923])), ('bias', tensor([0.2964]))])\n",
            "Epoch: 430 | Loss: 0.004964242689311504 | Test Loss: 0.010411137714982033\n",
            "OrderedDict([('weights', tensor([0.6923])), ('bias', tensor([0.2964]))])\n",
            "Epoch: 440 | Loss: 0.004964242689311504 | Test Loss: 0.010411137714982033\n",
            "OrderedDict([('weights', tensor([0.6923])), ('bias', tensor([0.2964]))])\n",
            "Epoch: 450 | Loss: 0.004964242689311504 | Test Loss: 0.010411137714982033\n",
            "OrderedDict([('weights', tensor([0.6923])), ('bias', tensor([0.2964]))])\n",
            "Epoch: 460 | Loss: 0.004964242689311504 | Test Loss: 0.010411137714982033\n",
            "OrderedDict([('weights', tensor([0.6923])), ('bias', tensor([0.2964]))])\n",
            "Epoch: 470 | Loss: 0.004964242689311504 | Test Loss: 0.010411137714982033\n",
            "OrderedDict([('weights', tensor([0.6923])), ('bias', tensor([0.2964]))])\n",
            "Epoch: 480 | Loss: 0.004964242689311504 | Test Loss: 0.010411137714982033\n",
            "OrderedDict([('weights', tensor([0.6923])), ('bias', tensor([0.2964]))])\n",
            "Epoch: 490 | Loss: 0.004964242689311504 | Test Loss: 0.010411137714982033\n",
            "OrderedDict([('weights', tensor([0.6923])), ('bias', tensor([0.2964]))])\n"
          ]
        }
      ]
    },
    {
      "cell_type": "code",
      "source": [
        "with torch.inference_mode():\n",
        "  y_preds_new = model_0(X_test)"
      ],
      "metadata": {
        "id": "A9TnmvbuSv9G"
      },
      "execution_count": 19,
      "outputs": []
    },
    {
      "cell_type": "code",
      "source": [
        "model_0.state_dict()"
      ],
      "metadata": {
        "colab": {
          "base_uri": "https://localhost:8080/"
        },
        "id": "vi5ROr8gUO_1",
        "outputId": "33ad0d97-3bb9-49a6-b55f-34bae396bd4a"
      },
      "execution_count": 20,
      "outputs": [
        {
          "output_type": "execute_result",
          "data": {
            "text/plain": [
              "OrderedDict([('weights', tensor([0.6962])), ('bias', tensor([0.3064]))])"
            ]
          },
          "metadata": {},
          "execution_count": 20
        }
      ]
    },
    {
      "cell_type": "code",
      "source": [
        "weight, bias"
      ],
      "metadata": {
        "colab": {
          "base_uri": "https://localhost:8080/"
        },
        "id": "oXOa80F-UUGz",
        "outputId": "458295c1-c170-4064-de31-d7c45c24f97f"
      },
      "execution_count": 21,
      "outputs": [
        {
          "output_type": "execute_result",
          "data": {
            "text/plain": [
              "(0.7, 0.3)"
            ]
          },
          "metadata": {},
          "execution_count": 21
        }
      ]
    },
    {
      "cell_type": "code",
      "source": [
        "# Before training (looping through and making the loss get smaller by utilizing gradient descent, and the optimizer)\n",
        "plot_predictions(predicitons=y_preds)"
      ],
      "metadata": {
        "colab": {
          "base_uri": "https://localhost:8080/",
          "height": 599
        },
        "id": "M2B-s5XtETm6",
        "outputId": "feb10d16-9a45-4c0d-b8ff-858df16fbaae"
      },
      "execution_count": 22,
      "outputs": [
        {
          "output_type": "display_data",
          "data": {
            "text/plain": [
              "<Figure size 1000x700 with 1 Axes>"
            ],
            "image/png": "[encoded data removed]"
          },
          "metadata": {}
        }
      ]
    },
    {
      "cell_type": "code",
      "source": [
        "# I ran it about 1.3k times. The loss went down, and the weight got closer to .7 and bias got closer to .3\n",
        "# After doing the training loop.\n",
        "plot_predictions(predicitons=y_preds_new)"
      ],
      "metadata": {
        "colab": {
          "base_uri": "https://localhost:8080/",
          "height": 599
        },
        "id": "WVu1jiU1DGDs",
        "outputId": "c5f3aed2-9c1d-4073-ac20-4e9d6e800851"
      },
      "execution_count": 23,
      "outputs": [
        {
          "output_type": "display_data",
          "data": {
            "text/plain": [
              "<Figure size 1000x700 with 1 Axes>"
            ],
            "image/png": "[encoded data removed]"
          },
          "metadata": {}
        }
      ]
    },
    {
      "cell_type": "code",
      "source": [
        "# Plot the loss curves\n",
        "plt.plot(epoch_count_list, np.array(torch.tensor(loss_values_list).numpy()), label=\"Train Loss\")\n",
        "plt.plot(epoch_count_list, test_loss_values_list, label=\"Test Train Loss\")\n",
        "plt.title(\"Training and test loss curves\")\n",
        "plt.ylabel(\"Loss\")\n",
        "plt.xlabel(\"Epochs\")\n",
        "plt.legend();"
      ],
      "metadata": {
        "colab": {
          "base_uri": "https://localhost:8080/",
          "height": 472
        },
        "id": "rPDKrw99VQuV",
        "outputId": "f163c0d9-e8db-4aad-d996-774e05aee763"
      },
      "execution_count": 24,
      "outputs": [
        {
          "output_type": "display_data",
          "data": {
            "text/plain": [
              "<Figure size 640x480 with 1 Axes>"
            ],
            "image/png": "[encoded data removed]"
          },
          "metadata": {}
        }
      ]
    },
    {
      "cell_type": "code",
      "source": [],
      "metadata": {
        "id": "sGAnsMPJYpXo"
      },
      "execution_count": 24,
      "outputs": []
    }
  ]
}